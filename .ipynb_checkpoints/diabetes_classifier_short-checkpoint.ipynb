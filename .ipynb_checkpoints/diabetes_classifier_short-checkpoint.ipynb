{
 "cells": [
  {
   "cell_type": "code",
   "execution_count": 1,
   "id": "93cd6ea9-3eae-41a0-8415-74016f866858",
   "metadata": {},
   "outputs": [],
   "source": [
    "import pandas as pd\n",
    "import numpy as np\n",
    "import matplotlib.pyplot as plt\n",
    "import seaborn as sns\n",
    "df = pd.read_csv('data/diabetes.csv')"
   ]
  },
  {
   "cell_type": "code",
   "execution_count": 2,
   "id": "f5412db0-6468-4c9a-8182-6e80f4e967b2",
   "metadata": {},
   "outputs": [],
   "source": [
    "df.columns = df.columns.str.lower()"
   ]
  },
  {
   "cell_type": "code",
   "execution_count": 3,
   "id": "0203a0db-f222-41da-920a-79bf6d9b40cc",
   "metadata": {},
   "outputs": [
    {
     "data": {
      "text/html": [
       "<div>\n",
       "<style scoped>\n",
       "    .dataframe tbody tr th:only-of-type {\n",
       "        vertical-align: middle;\n",
       "    }\n",
       "\n",
       "    .dataframe tbody tr th {\n",
       "        vertical-align: top;\n",
       "    }\n",
       "\n",
       "    .dataframe thead th {\n",
       "        text-align: right;\n",
       "    }\n",
       "</style>\n",
       "<table border=\"1\" class=\"dataframe\">\n",
       "  <thead>\n",
       "    <tr style=\"text-align: right;\">\n",
       "      <th></th>\n",
       "      <th>pregnancies</th>\n",
       "      <th>glucose</th>\n",
       "      <th>bloodpressure</th>\n",
       "      <th>skinthickness</th>\n",
       "      <th>insulin</th>\n",
       "      <th>bmi</th>\n",
       "      <th>diabetespedigreefunction</th>\n",
       "      <th>age</th>\n",
       "      <th>outcome</th>\n",
       "    </tr>\n",
       "  </thead>\n",
       "  <tbody>\n",
       "    <tr>\n",
       "      <th>0</th>\n",
       "      <td>6</td>\n",
       "      <td>148.0</td>\n",
       "      <td>72.0</td>\n",
       "      <td>35.00000</td>\n",
       "      <td>155.548223</td>\n",
       "      <td>33.6</td>\n",
       "      <td>0.627</td>\n",
       "      <td>50</td>\n",
       "      <td>1</td>\n",
       "    </tr>\n",
       "    <tr>\n",
       "      <th>1</th>\n",
       "      <td>1</td>\n",
       "      <td>85.0</td>\n",
       "      <td>66.0</td>\n",
       "      <td>29.00000</td>\n",
       "      <td>155.548223</td>\n",
       "      <td>26.6</td>\n",
       "      <td>0.351</td>\n",
       "      <td>31</td>\n",
       "      <td>0</td>\n",
       "    </tr>\n",
       "    <tr>\n",
       "      <th>2</th>\n",
       "      <td>8</td>\n",
       "      <td>183.0</td>\n",
       "      <td>64.0</td>\n",
       "      <td>29.15342</td>\n",
       "      <td>155.548223</td>\n",
       "      <td>23.3</td>\n",
       "      <td>0.672</td>\n",
       "      <td>32</td>\n",
       "      <td>1</td>\n",
       "    </tr>\n",
       "    <tr>\n",
       "      <th>3</th>\n",
       "      <td>1</td>\n",
       "      <td>89.0</td>\n",
       "      <td>66.0</td>\n",
       "      <td>23.00000</td>\n",
       "      <td>94.000000</td>\n",
       "      <td>28.1</td>\n",
       "      <td>0.167</td>\n",
       "      <td>21</td>\n",
       "      <td>0</td>\n",
       "    </tr>\n",
       "    <tr>\n",
       "      <th>4</th>\n",
       "      <td>0</td>\n",
       "      <td>137.0</td>\n",
       "      <td>40.0</td>\n",
       "      <td>35.00000</td>\n",
       "      <td>168.000000</td>\n",
       "      <td>43.1</td>\n",
       "      <td>2.288</td>\n",
       "      <td>33</td>\n",
       "      <td>1</td>\n",
       "    </tr>\n",
       "  </tbody>\n",
       "</table>\n",
       "</div>"
      ],
      "text/plain": [
       "   pregnancies  glucose  bloodpressure  skinthickness     insulin   bmi  \\\n",
       "0            6    148.0           72.0       35.00000  155.548223  33.6   \n",
       "1            1     85.0           66.0       29.00000  155.548223  26.6   \n",
       "2            8    183.0           64.0       29.15342  155.548223  23.3   \n",
       "3            1     89.0           66.0       23.00000   94.000000  28.1   \n",
       "4            0    137.0           40.0       35.00000  168.000000  43.1   \n",
       "\n",
       "   diabetespedigreefunction  age  outcome  \n",
       "0                     0.627   50        1  \n",
       "1                     0.351   31        0  \n",
       "2                     0.672   32        1  \n",
       "3                     0.167   21        0  \n",
       "4                     2.288   33        1  "
      ]
     },
     "execution_count": 3,
     "metadata": {},
     "output_type": "execute_result"
    }
   ],
   "source": [
    "# Imputing the zeros in columns with the mean of the nonzero entries\n",
    "df['glucose'].replace(0, df[df['glucose']>0].loc[:,'glucose'].mean(), inplace=True)\n",
    "df['bloodpressure'].replace(0, df[df['bloodpressure']>0].loc[:,'bloodpressure'].mean(), inplace=True)\n",
    "df['insulin'].replace(0, df[df['insulin']>0].loc[:,'insulin'].mean(), inplace=True)\n",
    "df['bmi'].replace(0, df[df['bmi']>0].loc[:,'bmi'].mean(), inplace=True)\n",
    "df['skinthickness'].replace(0, df[df['skinthickness']>0].loc[:,'skinthickness'].mean(), inplace=True)\n",
    "df.head()"
   ]
  },
  {
   "cell_type": "markdown",
   "id": "0d1e3a23-8c92-4af5-a44f-10be3240fe96",
   "metadata": {
    "tags": []
   },
   "source": [
    "## Parameters and useful functions for analysis"
   ]
  },
  {
   "cell_type": "code",
   "execution_count": 4,
   "id": "5fce26bb-a99e-46df-8e75-d4e9c719784a",
   "metadata": {},
   "outputs": [],
   "source": [
    "def summary_of_model(clf, X_train, X_test, y_train, y_test, threshold):\n",
    "    from sklearn.model_selection import GridSearchCV\n",
    "    from sklearn.model_selection import KFold, StratifiedKFold, cross_val_score\n",
    "    from sklearn.metrics import classification_report\n",
    "    from sklearn.metrics import accuracy_score, precision_score, recall_score\n",
    "    from sklearn.metrics import confusion_matrix\n",
    "    from sklearn.metrics import (precision_recall_curve, PrecisionRecallDisplay)\n",
    "    # This provides a summary of the model given a certain decision threshold of the predicted probability.\n",
    "    # It includes a summary on recall/accuracy on the training and test sets, a visual display of the confusion matrix\n",
    "    # and a plot of the precision-recall curve for a given classifier.\n",
    "    pred_proba_test = clf.predict_proba(X_test)\n",
    "    pred_test = (pred_proba_test [:,1] >= threshold).astype('int')\n",
    "    pred_proba_train = clf.predict_proba(X_train)\n",
    "    pred_train = (pred_proba_train [:,1] >= threshold).astype('int')\n",
    "    print(classification_report(y_test, pred_test))\n",
    "    print('Recall of diabetes on the training set: {:.2f}'.format(recall_score(y_train, pred_train)))\n",
    "    print('Accuracy on the training set: {:.2f}'.format(accuracy_score(y_train, pred_train)))\n",
    "    print('Recall of diabetes class on the test set: {:.2f}'.format(recall_score(y_test, pred_test)))\n",
    "    print('Accuracy on the test set: {:.2f}'.format(accuracy_score(y_test, pred_test)))\n",
    "    print(confusion_matrix(y_test, pred_test))\n",
    "    # Make a more legible confusion matrix\n",
    "    _, ax = plt.subplots(figsize=(9,9))\n",
    "    ax = sns.heatmap(confusion_matrix(y_test, pred_test), annot=True, fmt='d', cmap='vlag', annot_kws={\"size\": 40, \"weight\": \"bold\"})  \n",
    "    labels = ['False', 'True']\n",
    "    ax.set_xticklabels(labels, fontsize=25);\n",
    "    ax.set_yticklabels(labels, fontsize=25);\n",
    "    ax.set_ylabel('Actual', fontsize=30);\n",
    "    ax.set_xlabel('Prediction', fontsize=30)\n",
    "    lr_probs = clf.predict_proba(X_test)\n",
    "    lr_probs = lr_probs[:, 1]\n",
    "    lr_precision, lr_recall, _ = precision_recall_curve(y_test, lr_probs)\n",
    "    plt.figure()\n",
    "    plt.plot(lr_recall, lr_precision, marker='.')\n",
    "    plt.xlabel('Recall')\n",
    "    plt.ylabel('Precision')\n",
    "    plt.show()"
   ]
  },
  {
   "cell_type": "code",
   "execution_count": 5,
   "id": "72e09660-1a5a-4af3-9cd6-342f7d875e16",
   "metadata": {},
   "outputs": [],
   "source": [
    "def summary_of_model_nothresh(clf, X_train, X_test, y_train, y_test):\n",
    "    from sklearn.model_selection import GridSearchCV\n",
    "    from sklearn.model_selection import KFold, StratifiedKFold, cross_val_score\n",
    "    from sklearn.metrics import classification_report\n",
    "    from sklearn.metrics import accuracy_score, precision_score, recall_score\n",
    "    from sklearn.metrics import confusion_matrix\n",
    "    from sklearn.metrics import (precision_recall_curve, PrecisionRecallDisplay)\n",
    "    # This provides a summary of the model, but without the threshold condition.\n",
    "    # It includes a summary on recall/accuracy on the training and test sets, a visual display of the confusion matrix\n",
    "    # and a plot of the precision-recall curve for a given classifier.\n",
    "    pred_test = clf.predict(X_test)\n",
    "    pred_train = clf.predict(X_train)\n",
    "    print(classification_report(y_test, pred_test))\n",
    "    print('Recall of diabetes on the training set: {:.2f}'.format(recall_score(y_train, pred_train)))\n",
    "    print('Accuracy on the training set: {:.2f}'.format(accuracy_score(y_train, pred_train)))\n",
    "    print('Recall of diabetes class on the test set: {:.2f}'.format(recall_score(y_test, pred_test)))\n",
    "    print('Accuracy on the test set: {:.2f}'.format(accuracy_score(y_test, pred_test)))\n",
    "    print(confusion_matrix(y_test, pred_test))\n",
    "    _, ax = plt.subplots(figsize=(9,9))\n",
    "    ax = sns.heatmap(confusion_matrix(y_test, pred_test), annot=True, fmt='d', cmap='vlag', annot_kws={\"size\": 40, \"weight\": \"bold\"})  \n",
    "    labels = ['False', 'True']\n",
    "    ax.set_xticklabels(labels, fontsize=25);\n",
    "    ax.set_yticklabels(labels, fontsize=25);\n",
    "    ax.set_ylabel('Actual', fontsize=30);\n",
    "    ax.set_xlabel('Prediction', fontsize=30)\n",
    "    lr_probs = clf.predict_proba(X_test)\n",
    "    lr_probs = lr_probs[:, 1]\n",
    "    lr_precision, lr_recall, _ = precision_recall_curve(y_test, lr_probs)\n",
    "    plt.figure()\n",
    "    plt.plot(lr_recall, lr_precision, marker='.')\n",
    "    plt.xlabel('Recall')\n",
    "    plt.ylabel('Precision')\n",
    "    plt.show()"
   ]
  },
  {
   "cell_type": "code",
   "execution_count": 6,
   "id": "fac0a168-c370-4042-b2c4-c5f9ec35199e",
   "metadata": {},
   "outputs": [],
   "source": [
    "from sklearn.metrics import make_scorer\n",
    "def recall_calc(y_true, y_pred):\n",
    "    # A calculator for the recall of diabetes. There is a built-in function for this, but I wanted to verify the built-in.\n",
    "    y_true = y_true.values\n",
    "    #y_pred = y_pred.values\n",
    "    true_positives = np.array([1 if (y_true[i]==1 and y_pred[i]==1) else 0 for i in np.arange(0,len(y_true))])\n",
    "    false_negatives = np.array([1 if (y_true[i]==1 and y_pred[i]==0) else 0 for i in np.arange(0,len(y_true))])\n",
    "    recall = true_positives.sum()/(true_positives.sum() + false_negatives.sum())\n",
    "    return recall"
   ]
  },
  {
   "cell_type": "code",
   "execution_count": 7,
   "id": "b5b07e63-e397-4399-b055-cc595d23c457",
   "metadata": {},
   "outputs": [],
   "source": [
    "def find_threshold(clf, y_test, X_test):\n",
    "    # A function that finds the highest (up to descritization) probability threshold (or decision boundary) that has a recall \n",
    "    # of req_recall. \n",
    "    req_recall = .8\n",
    "    threshold = .5\n",
    "    pred_proba_test = clf.predict_proba(X_test)\n",
    "    pred_test = (pred_proba_test [:,1] >= threshold).astype('int')\n",
    "    search_step = 1e-2 # the amount to decrease the probabilty threshold if the recall is not > .8\n",
    "    current_recall = recall_calc(y_test, pred_test)\n",
    "    while(current_recall < req_recall):\n",
    "        threshold = threshold - search_step\n",
    "        pred_proba_test = clf.predict_proba(X_test)\n",
    "        pred_test = (pred_proba_test [:,1] >= threshold).astype('int')\n",
    "        current_recall = recall_calc(y_test, pred_test)\n",
    "    return threshold"
   ]
  },
  {
   "cell_type": "markdown",
   "id": "3bb92788-7537-4006-9f62-588bd8c4f20f",
   "metadata": {},
   "source": []
  },
  {
   "cell_type": "markdown",
   "id": "8d390840-10d6-4527-9086-ff370a9888e0",
   "metadata": {
    "tags": []
   },
   "source": [
    "## Feature Setup, Scale Data"
   ]
  },
  {
   "cell_type": "code",
   "execution_count": 8,
   "id": "61a44052-68de-4540-91af-55c8febeb72d",
   "metadata": {
    "tags": []
   },
   "outputs": [
    {
     "data": {
      "text/html": [
       "<div>\n",
       "<style scoped>\n",
       "    .dataframe tbody tr th:only-of-type {\n",
       "        vertical-align: middle;\n",
       "    }\n",
       "\n",
       "    .dataframe tbody tr th {\n",
       "        vertical-align: top;\n",
       "    }\n",
       "\n",
       "    .dataframe thead th {\n",
       "        text-align: right;\n",
       "    }\n",
       "</style>\n",
       "<table border=\"1\" class=\"dataframe\">\n",
       "  <thead>\n",
       "    <tr style=\"text-align: right;\">\n",
       "      <th></th>\n",
       "      <th>age</th>\n",
       "      <th>bloodpressure</th>\n",
       "      <th>bmi</th>\n",
       "      <th>diabetespedigreefunction</th>\n",
       "      <th>glucose</th>\n",
       "      <th>insulin</th>\n",
       "      <th>pregnancies</th>\n",
       "    </tr>\n",
       "    <tr>\n",
       "      <th>outcome</th>\n",
       "      <th></th>\n",
       "      <th></th>\n",
       "      <th></th>\n",
       "      <th></th>\n",
       "      <th></th>\n",
       "      <th></th>\n",
       "      <th></th>\n",
       "    </tr>\n",
       "  </thead>\n",
       "  <tbody>\n",
       "    <tr>\n",
       "      <th>0</th>\n",
       "      <td>-0.174505</td>\n",
       "      <td>-0.121586</td>\n",
       "      <td>-0.228366</td>\n",
       "      <td>-0.127275</td>\n",
       "      <td>-0.360882</td>\n",
       "      <td>-0.156975</td>\n",
       "      <td>-0.162456</td>\n",
       "    </tr>\n",
       "    <tr>\n",
       "      <th>1</th>\n",
       "      <td>0.325569</td>\n",
       "      <td>0.226839</td>\n",
       "      <td>0.426056</td>\n",
       "      <td>0.237453</td>\n",
       "      <td>0.673288</td>\n",
       "      <td>0.292863</td>\n",
       "      <td>0.303090</td>\n",
       "    </tr>\n",
       "  </tbody>\n",
       "</table>\n",
       "</div>"
      ],
      "text/plain": [
       "              age  bloodpressure       bmi  diabetespedigreefunction  \\\n",
       "outcome                                                                \n",
       "0       -0.174505      -0.121586 -0.228366                 -0.127275   \n",
       "1        0.325569       0.226839  0.426056                  0.237453   \n",
       "\n",
       "          glucose   insulin  pregnancies  \n",
       "outcome                                   \n",
       "0       -0.360882 -0.156975    -0.162456  \n",
       "1        0.673288  0.292863     0.303090  "
      ]
     },
     "execution_count": 8,
     "metadata": {},
     "output_type": "execute_result"
    }
   ],
   "source": [
    "from sklearn.preprocessing import StandardScaler, MinMaxScaler #scaling the parameters\n",
    "ss = StandardScaler()\n",
    "cols_to_scale = ['pregnancies', 'age', 'bmi', 'diabetespedigreefunction', 'bloodpressure', 'insulin', 'glucose']# cols not included: 'age', 'pregnancies', 'glucose', 'bloodpressure', 'insulin', 'bmi', 'diabetespedigreefunction',  'bloodpressure','skinthickness'\n",
    "cols_not_scaled = ['outcome']\n",
    "#pd.pivot_table(df, index=['outcome'],  values = df.columns, aggfunc = np.mean)\n",
    "df_scaled = pd.DataFrame(ss.fit_transform(df[cols_to_scale]), index=df.index, columns=cols_to_scale)\n",
    "df_scaled[cols_not_scaled] = df[cols_not_scaled]\n",
    "pd.pivot_table(df_scaled, index=['outcome'],  values = df_scaled.columns, aggfunc = np.mean)"
   ]
  },
  {
   "cell_type": "code",
   "execution_count": 9,
   "id": "437435de-2bdb-4ec4-8c7b-98f9824e4724",
   "metadata": {
    "tags": []
   },
   "outputs": [],
   "source": [
    "from random import randrange\n",
    "from sklearn.model_selection import train_test_split\n",
    "TEST_FRACTION = .25 #percentage of the test size\n",
    "CV = 7 #cross validations to do in grid search\n",
    "OPT_ON = 'f1' #what to optimize in gridsearches\n",
    "N_JOBS = 5 #number of cores\n",
    "RAND_STATE = 0 #will be doing multiple train-test-splits, and want to keep everything random, but do the same train-test-splits"
   ]
  },
  {
   "cell_type": "code",
   "execution_count": 10,
   "id": "124e190a-7198-4ae6-81a9-e9e4fc5c3df9",
   "metadata": {
    "tags": []
   },
   "outputs": [],
   "source": [
    "y=df_scaled.pop('outcome')\n",
    "X_train, X_test, y_train, y_test = train_test_split(df_scaled, y, test_size=TEST_FRACTION, random_state = RAND_STATE)"
   ]
  },
  {
   "cell_type": "code",
   "execution_count": 11,
   "id": "d78ef262-d651-4a60-9317-abed06f2251d",
   "metadata": {},
   "outputs": [
    {
     "name": "stdout",
     "output_type": "stream",
     "text": [
      "Fitting 7 folds for each of 50 candidates, totalling 350 fits\n"
     ]
    },
    {
     "data": {
      "text/plain": [
       "GridSearchCV(cv=7, estimator=GradientBoostingClassifier(random_state=0),\n",
       "             n_jobs=5,\n",
       "             param_grid={'learning_rate': [0.001, 0.002, 0.003, 0.004, 0.005],\n",
       "                         'max_depth': [2, 3],\n",
       "                         'n_estimators': [100, 200, 300, 400, 500]},\n",
       "             scoring='f1', verbose=2)"
      ]
     },
     "execution_count": 11,
     "metadata": {},
     "output_type": "execute_result"
    }
   ],
   "source": [
    "from sklearn.ensemble import GradientBoostingClassifier\n",
    ">>> from sklearn.model_selection import GridSearchCV\n",
    "grid_values_boost = {'n_estimators': [100, 200, 300, 400, 500],\n",
    "                     'learning_rate': [1e-3, 2e-3, 3e-3, 4e-3, 5e-3], \n",
    "                     'max_depth': [2, 3]}\n",
    "clf_boost = GradientBoostingClassifier(random_state = RAND_STATE)\n",
    "grid_clf_boost = GridSearchCV(clf_boost, param_grid=grid_values_boost, cv=CV, scoring=OPT_ON, n_jobs=N_JOBS, verbose=2)\n",
    "grid_clf_boost.fit(X_train, y_train)"
   ]
  },
  {
   "cell_type": "code",
   "execution_count": 12,
   "id": "2b20c068-e197-4a84-bf6c-6989e570556f",
   "metadata": {},
   "outputs": [
    {
     "name": "stdout",
     "output_type": "stream",
     "text": [
      "Best Params: {'learning_rate': 0.005, 'max_depth': 2, 'n_estimators': 500}, \n",
      " Best score: 0.6185201065325289\n"
     ]
    }
   ],
   "source": [
    "print('Best Params: {}, \\n Best score: {}'.format(grid_clf_boost.best_params_, grid_clf_boost.best_score_))"
   ]
  },
  {
   "cell_type": "code",
   "execution_count": 13,
   "id": "754a437c-b011-4af7-bddf-55d6b6330938",
   "metadata": {},
   "outputs": [
    {
     "name": "stdout",
     "output_type": "stream",
     "text": [
      "0.3799999999999999\n"
     ]
    }
   ],
   "source": [
    "thresh = find_threshold(grid_clf_boost, y_train, X_train)\n",
    "print(thresh)"
   ]
  },
  {
   "cell_type": "code",
   "execution_count": 14,
   "id": "780dbca1-0f7f-4c05-89aa-93829ad541f1",
   "metadata": {},
   "outputs": [
    {
     "name": "stdout",
     "output_type": "stream",
     "text": [
      "              precision    recall  f1-score   support\n",
      "\n",
      "           0       0.87      0.84      0.85       130\n",
      "           1       0.69      0.74      0.71        62\n",
      "\n",
      "    accuracy                           0.81       192\n",
      "   macro avg       0.78      0.79      0.78       192\n",
      "weighted avg       0.81      0.81      0.81       192\n",
      "\n",
      "Recall of diabetes on the training set: 0.81\n",
      "Accuracy on the training set: 0.80\n",
      "Recall of diabetes class on the test set: 0.74\n",
      "Accuracy on the test set: 0.81\n",
      "[[109  21]\n",
      " [ 16  46]]\n"
     ]
    },
    {
     "data": {
      "image/png": "[encoded data removed]",
      "text/plain": [
       "<Figure size 648x648 with 2 Axes>"
      ]
     },
     "metadata": {
      "needs_background": "light"
     },
     "output_type": "display_data"
    },
    {
     "data": {
      "image/png": "[encoded data removed]",
      "text/plain": [
       "<Figure size 432x288 with 1 Axes>"
      ]
     },
     "metadata": {
      "needs_background": "light"
     },
     "output_type": "display_data"
    }
   ],
   "source": [
    "summary_of_model(grid_clf_boost, X_train, X_test, y_train, y_test, thresh)"
   ]
  },
  {
   "cell_type": "markdown",
   "id": "bfcdf6ba-01d6-4b4d-b0b0-085a4593030c",
   "metadata": {},
   "source": [
    "It may be concerning that the number of true negatives is comparable to the dummy classifier, but I wanted a conservative model and that is a price for that requirement. We have significantly \n",
    "increased our recall on diabetes, and our accuracy is still good. But, as a reality check, let's set the threshold to .5 instead of adjusting the threshold\n",
    "to improve recall."
   ]
  },
  {
   "cell_type": "markdown",
   "id": "4db6db38-69e8-4e08-8a28-3487cc05b1eb",
   "metadata": {
    "tags": []
   },
   "source": [
    "### Logistic Regression Classifier"
   ]
  },
  {
   "cell_type": "code",
   "execution_count": 15,
   "id": "a880b1aa-a05d-4582-95c8-e1cea9764a4b",
   "metadata": {},
   "outputs": [
    {
     "name": "stdout",
     "output_type": "stream",
     "text": [
      "Fitting 7 folds for each of 400 candidates, totalling 2800 fits\n"
     ]
    },
    {
     "data": {
      "text/plain": [
       "GridSearchCV(cv=7, estimator=LogisticRegression(random_state=0), n_jobs=5,\n",
       "             param_grid={'C': array([1.00000000e-01, 1.05956018e-01, 1.12266777e-01, 1.18953407e-01,\n",
       "       1.26038293e-01, 1.33545156e-01, 1.41499130e-01, 1.49926843e-01,\n",
       "       1.58856513e-01, 1.68318035e-01, 1.78343088e-01, 1.88965234e-01,\n",
       "       2.00220037e-01, 2.12145178e-01, 2.24780583e-01, 2.38168555e-01,\n",
       "       2.52353917e-01,...\n",
       "       3.33129479e+03, 3.52970730e+03, 3.73993730e+03, 3.96268864e+03,\n",
       "       4.19870708e+03, 4.44878283e+03, 4.71375313e+03, 4.99450512e+03,\n",
       "       5.29197874e+03, 5.60716994e+03, 5.94113398e+03, 6.29498899e+03,\n",
       "       6.66991966e+03, 7.06718127e+03, 7.48810386e+03, 7.93409667e+03,\n",
       "       8.40665289e+03, 8.90735464e+03, 9.43787828e+03, 1.00000000e+04]),\n",
       "                         'penalty': ['l1', 'l2'], 'solver': ['liblinear']},\n",
       "             scoring='f1', verbose=2)"
      ]
     },
     "execution_count": 15,
     "metadata": {},
     "output_type": "execute_result"
    }
   ],
   "source": [
    "from sklearn.linear_model import LogisticRegression\n",
    "grid_values_log = {'penalty': ['l1','l2'], 'C': np.logspace(-1, 4, 200), 'solver': ['liblinear']}\n",
    "clf_log = LogisticRegression(random_state = RAND_STATE)\n",
    "grid_clf_log = GridSearchCV(clf_log, param_grid=grid_values_log, cv=CV, scoring=OPT_ON, n_jobs=N_JOBS, verbose=2)\n",
    "grid_clf_log.fit(X_train, y_train)"
   ]
  },
  {
   "cell_type": "code",
   "execution_count": 16,
   "id": "48a8d233-573c-4bc1-9a3a-26a7432d3e57",
   "metadata": {},
   "outputs": [
    {
     "name": "stdout",
     "output_type": "stream",
     "text": [
      "Best Params: {'C': 0.40088063288984654, 'penalty': 'l1', 'solver': 'liblinear'}, \n",
      " Best score: 0.64\n"
     ]
    }
   ],
   "source": [
    "print('Best Params: {}, \\n Best score: {:.2f}'.format(grid_clf_log.best_params_, grid_clf_log.best_score_))"
   ]
  },
  {
   "cell_type": "code",
   "execution_count": 17,
   "id": "8d68256e-cdd1-4f8b-a0ef-ab018b2e1b59",
   "metadata": {},
   "outputs": [
    {
     "name": "stdout",
     "output_type": "stream",
     "text": [
      "0.2999999999999998\n"
     ]
    }
   ],
   "source": [
    "thresh = find_threshold(grid_clf_log, y_train, X_train)\n",
    "print(thresh)"
   ]
  },
  {
   "cell_type": "code",
   "execution_count": 18,
   "id": "0ef5a505-2f1d-4915-88cb-468672c14cb2",
   "metadata": {},
   "outputs": [
    {
     "name": "stdout",
     "output_type": "stream",
     "text": [
      "              precision    recall  f1-score   support\n",
      "\n",
      "           0       0.90      0.72      0.80       130\n",
      "           1       0.59      0.84      0.69        62\n",
      "\n",
      "    accuracy                           0.76       192\n",
      "   macro avg       0.75      0.78      0.75       192\n",
      "weighted avg       0.80      0.76      0.77       192\n",
      "\n",
      "Recall of diabetes on the training set: 0.81\n",
      "Accuracy on the training set: 0.73\n",
      "Recall of diabetes class on the test set: 0.84\n",
      "Accuracy on the test set: 0.76\n",
      "[[94 36]\n",
      " [10 52]]\n"
     ]
    },
    {
     "data": {
      "image/png": "[encoded data removed]",
      "text/plain": [
       "<Figure size 648x648 with 2 Axes>"
      ]
     },
     "metadata": {
      "needs_background": "light"
     },
     "output_type": "display_data"
    },
    {
     "data": {
      "image/png": "[encoded data removed]",
      "text/plain": [
       "<Figure size 432x288 with 1 Axes>"
      ]
     },
     "metadata": {
      "needs_background": "light"
     },
     "output_type": "display_data"
    }
   ],
   "source": [
    "summary_of_model(grid_clf_log, X_train, X_test, y_train, y_test, thresh)"
   ]
  },
  {
   "cell_type": "code",
   "execution_count": null,
   "id": "ae6a0eb1-9c24-4e26-8f65-821b3a4c4c31",
   "metadata": {},
   "outputs": [],
   "source": []
  }
 ],
 "metadata": {
  "kernelspec": {
   "display_name": "Python 3",
   "language": "python",
   "name": "python3"
  },
  "language_info": {
   "codemirror_mode": {
    "name": "ipython",
    "version": 3
   },
   "file_extension": ".py",
   "mimetype": "text/x-python",
   "name": "python",
   "nbconvert_exporter": "python",
   "pygments_lexer": "ipython3",
   "version": "3.6.9"
  }
 },
 "nbformat": 4,
 "nbformat_minor": 5
}
